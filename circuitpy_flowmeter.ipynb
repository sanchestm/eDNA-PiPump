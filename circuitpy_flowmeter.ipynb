{
 "cells": [
  {
   "cell_type": "code",
   "execution_count": 1,
   "metadata": {},
   "outputs": [
    {
     "name": "stdout",
     "output_type": "stream",
     "text": [
      "(sysname='samd21', nodename='samd21', release='4.1.2', version='4.1.2 on 2019-12-18', machine='Adafruit CircuitPlayground Express with samd21g18')\n"
     ]
    }
   ],
   "source": [
    "#for linux remember to do -> sudo chmod a+rw /dev/ttyACM0\n",
    "\n",
    "import os\n",
    "import time, sys\n",
    "\n",
    "print(os.uname())"
   ]
  },
  {
   "cell_type": "code",
   "execution_count": 2,
   "metadata": {},
   "outputs": [],
   "source": [
    "#from adafruit_circuitplayground import cp\n",
    "\n",
    "import time, sys\n",
    "from digitalio import DigitalInOut, Direction, Pull\n",
    "\n",
    "#from Adafruit_IO import Client, RequestError, Feed\n",
    "#ADAFRUIT_IO_KEY = 'aio_vwJZ51l05wBYBNvRppvnKMkcKEjl'\n",
    "#ADAFRUIT_IO_USERNAME = 'thiagoms'\n",
    "#aio = Client(ADAFRUIT_IO_USERNAME, ADAFRUIT_IO_KEY)\n",
    "#flow_instant = aio.feeds('test')\n",
    "\n",
    "\n",
    "\n",
    "\n"
   ]
  },
  {
   "cell_type": "code",
   "execution_count": 3,
   "metadata": {},
   "outputs": [],
   "source": [
    "import digitalio\n",
    "import microcontroller \n",
    "import board"
   ]
  },
  {
   "cell_type": "code",
   "execution_count": 4,
   "metadata": {},
   "outputs": [],
   "source": [
    "import analogio"
   ]
  },
  {
   "cell_type": "code",
   "execution_count": 5,
   "metadata": {},
   "outputs": [],
   "source": [
    "inpt = digitalio.DigitalInOut(board.A3)\n",
    "inpt.direction = Direction.INPUT\n",
    "inpt.pull = Pull.DOWN"
   ]
  },
  {
   "cell_type": "code",
   "execution_count": 6,
   "metadata": {},
   "outputs": [],
   "source": [
    "output = digitalio.DigitalInOut(board.A2)"
   ]
  },
  {
   "cell_type": "code",
   "execution_count": 7,
   "metadata": {},
   "outputs": [],
   "source": [
    "output.direction = Direction.OUTPUT\n",
    "count = 0"
   ]
  },
  {
   "cell_type": "code",
   "execution_count": 10,
   "metadata": {},
   "outputs": [
    {
     "name": "stderr",
     "output_type": "stream",
     "text": [
      "Keyboard Interrupt"
     ]
    }
   ],
   "source": [
    "while 1:\n",
    "    count += inpt.value\n",
    "    output.value = 0\n",
    "    if count == 300:\n",
    "        output.value = 1\n",
    "        count = 0"
   ]
  },
  {
   "cell_type": "code",
   "execution_count": null,
   "metadata": {},
   "outputs": [],
   "source": []
  },
  {
   "cell_type": "code",
   "execution_count": null,
   "metadata": {},
   "outputs": [],
   "source": []
  },
  {
   "cell_type": "code",
   "execution_count": null,
   "metadata": {},
   "outputs": [],
   "source": []
  },
  {
   "cell_type": "code",
   "execution_count": null,
   "metadata": {},
   "outputs": [],
   "source": [
    "rate_count = 0\n",
    "tot_count = 0\n",
    "minutes = 0\n",
    "constant = 38\n",
    "time_new = 0.0\n",
    "flow_avg = 0\n",
    "flow_avg2 = 0\n",
    "count = 0\n",
    "\n",
    "\n",
    "\n",
    "print('Time         ', '\\t', time.asctime(time.localtime()))\n",
    "\n",
    "while time.time() <= future:\n",
    "    try:\n",
    "        a = inpt.value\n",
    "        if  pinV != a:\n",
    "            count += 1\n",
    "            pinV = a\n",
    "        print('\\rmL/min {:10d} -  state {:1d}'.format(round(2*flow_avg2/2.5,2), GPIO.input(inpt)), end = '')\n",
    "    except KeyboardInterrupt:\n",
    "        print('exited')\n",
    "        GPIO.cleanup()\n",
    "        sys.exit()\n",
    "flow_avg2 = round(count/constant)*60\n",
    "#aio.send_data(flow_instant.key, round(2*flow_avg2/2.5,2) )\n",
    "with open('/home/pi/Desktop/Log.txt', 'a+') as f:\n",
    "    f.write('Time {} - flow(mL/min) {:10d}\\n'.format( time.asctime(time.localtime()), round(2*flow_avg2/2.5,2)))\n",
    "\n",
    "print('exited')\n",
    "GPIO.cleanup()"
   ]
  },
  {
   "cell_type": "code",
   "execution_count": null,
   "metadata": {},
   "outputs": [],
   "source": [
    "analogin = analogio.AnalogIn(board.A1)"
   ]
  },
  {
   "cell_type": "code",
   "execution_count": null,
   "metadata": {},
   "outputs": [],
   "source": [
    "pinV = 0\n",
    "count = 0"
   ]
  },
  {
   "cell_type": "code",
   "execution_count": null,
   "metadata": {},
   "outputs": [],
   "source": [
    "a = inpt.value\n",
    "if  pinV != a:\n",
    "    count += 1\n",
    "    pinV = a"
   ]
  },
  {
   "cell_type": "code",
   "execution_count": null,
   "metadata": {},
   "outputs": [],
   "source": [
    "print(inpt.value, a)"
   ]
  },
  {
   "cell_type": "code",
   "execution_count": null,
   "metadata": {},
   "outputs": [],
   "source": [
    "print(count)"
   ]
  },
  {
   "cell_type": "code",
   "execution_count": null,
   "metadata": {},
   "outputs": [],
   "source": [
    "import"
   ]
  },
  {
   "cell_type": "code",
   "execution_count": null,
   "metadata": {},
   "outputs": [],
   "source": [
    "glov\n",
    "def setValue(val):\n",
    "    global globalVal\n",
    "    valueChanged= globalVal != val\n",
    "    if valueChanged:\n",
    "        preFunction()\n",
    "    globalVal = val\n",
    "    if valueChanged:\n",
    "        postFunction()"
   ]
  },
  {
   "cell_type": "code",
   "execution_count": null,
   "metadata": {},
   "outputs": [],
   "source": [
    "if "
   ]
  },
  {
   "cell_type": "code",
   "execution_count": null,
   "metadata": {},
   "outputs": [],
   "source": [
    "a = 1"
   ]
  },
  {
   "cell_type": "code",
   "execution_count": null,
   "metadata": {},
   "outputs": [],
   "source": [
    "change = Watcher(a)"
   ]
  },
  {
   "cell_type": "code",
   "execution_count": null,
   "metadata": {},
   "outputs": [],
   "source": [
    "a +=2"
   ]
  },
  {
   "cell_type": "code",
   "execution_count": null,
   "metadata": {},
   "outputs": [],
   "source": []
  },
  {
   "cell_type": "code",
   "execution_count": null,
   "metadata": {},
   "outputs": [],
   "source": []
  }
 ],
 "metadata": {
  "kernelspec": {
   "display_name": "CircuitPython",
   "language": "python",
   "name": "circuitpython"
  },
  "language_info": {
   "codemirror_mode": {
    "name": "python",
    "version": 3
   },
   "file_extension": ".py",
   "mimetype": "text/x-python",
   "name": "python",
   "pygments_lexer": "python3",
   "version": "3"
  }
 },
 "nbformat": 4,
 "nbformat_minor": 4
}
